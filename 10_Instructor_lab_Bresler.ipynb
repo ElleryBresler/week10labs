{
 "cells": [
  {
   "cell_type": "markdown",
   "id": "3adee395-fa2e-4bf4-b74b-63569fd08d1f",
   "metadata": {},
   "source": [
    "UM MSBA - BGEN\n",
    "\n",
    "# Week 10 Instructor-Led Lab: Descriptive Statistics\n",
    "---\n",
    "    Author: Ellery Bresler\n",
    "    Course: BGEN632 Grad. Intro. to Python\n",
    "    Term: Spring 2025\n",
    "    Date: May 7th, 2025\n",
    "\n",
    "\n",
    "## \t&#x1f4bb; California Hospitals: Data Reduction\t&#x1f4bb;\n",
    "\n",
    "I currently work in the Information Systems department for a consulting firm working with the state government agency that oversees the healthcare system in California. I am part of a team charged with assessing the condition of the healthcare system in California.\n",
    "\n",
    "In this assignment I will practice implementing data reduction techniques in Python. I will use the data in the [`calihospital.txt` file](https://github.com/UMBGEN632/week10labs/blob/main/data/calihospital.text) provided within the `data` folder. This dataset contains responses to several surveys were emailed to a random sample of 61 hospitals.\n",
    "\n",
    "\n",
    "#### Import Modules "
   ]
  },
  {
   "cell_type": "code",
   "execution_count": 4,
   "id": "5cfb8c59-1c80-4900-849e-a5522140d1fa",
   "metadata": {},
   "outputs": [],
   "source": [
    "import os\n",
    "import numpy as np\n",
    "import pandas as pd\n",
    "import matplotlib.pyplot as plt\n",
    "\n",
    "from sklearn.model_selection import train_test_split\n",
    "\n",
    "# for pca\n",
    "from sklearn import preprocessing\n",
    "from sklearn.decomposition import PCA as pca\n",
    "\n",
    "# for factor analysis\n",
    "from factor_analyzer import FactorAnalyzer\n",
    "from factor_analyzer.factor_analyzer import calculate_bartlett_sphericity\n",
    "from factor_analyzer.factor_analyzer import calculate_kmo\n",
    "\n",
    "# for k-means clustering \n",
    "import sklearn.metrics as metcs\n",
    "from scipy.cluster import hierarchy as hier\n",
    "from sklearn import cluster as cls\n",
    "\n",
    "# for decision tree \n",
    "from sklearn.feature_extraction.image import grid_to_graph\n",
    "from sklearn import tree\n",
    "\n",
    "# modules for plotting trees\n",
    "from sklearn.tree import export_graphviz\n",
    "import graphviz\n",
    "from IPython.display import display"
   ]
  },
  {
   "cell_type": "markdown",
   "id": "f3d7118e-1880-4123-b547-2f8e1c2c438c",
   "metadata": {},
   "source": [
    "#### Set Working Directory & Accessing Data "
   ]
  },
  {
   "cell_type": "code",
   "execution_count": 14,
   "id": "8d0ca1d1-a57d-4662-909f-66eec65d92f2",
   "metadata": {},
   "outputs": [
    {
     "name": "stdout",
     "output_type": "stream",
     "text": [
      "<class 'pandas.core.frame.DataFrame'>\n",
      "RangeIndex: 61 entries, 0 to 60\n",
      "Data columns (total 23 columns):\n",
      " #   Column         Non-Null Count  Dtype  \n",
      "---  ------         --------------  -----  \n",
      " 0   HospitalID     61 non-null     int64  \n",
      " 1   Name           61 non-null     object \n",
      " 2   Zip            61 non-null     object \n",
      " 3   Website        61 non-null     object \n",
      " 4   TypeControl    61 non-null     object \n",
      " 5   Teaching       61 non-null     object \n",
      " 6   DonorType      61 non-null     object \n",
      " 7   NoFTE          61 non-null     float64\n",
      " 8   NetPatRev      61 non-null     float64\n",
      " 9   InOperExp      61 non-null     float64\n",
      " 10  OutOperExp     61 non-null     float64\n",
      " 11  OperRev        61 non-null     int64  \n",
      " 12  OperInc        61 non-null     int64  \n",
      " 13  AvlBeds        61 non-null     int64  \n",
      " 14  Work_ID        61 non-null     int64  \n",
      " 15  LastName       61 non-null     object \n",
      " 16  FirstName      61 non-null     object \n",
      " 17  Gender         61 non-null     object \n",
      " 18  PositionID     61 non-null     int64  \n",
      " 19  PositionTitle  61 non-null     object \n",
      " 20  Compensation   61 non-null     int64  \n",
      " 21  MaxTerm        61 non-null     int64  \n",
      " 22  StartDate      61 non-null     object \n",
      "dtypes: float64(4), int64(8), object(11)\n",
      "memory usage: 11.1+ KB\n"
     ]
    }
   ],
   "source": [
    "os.chdir(\"/Users/ElleryBresler/Documents/GitHub/week10labs/data\")  # change this to your filepath\n",
    "\n",
    "ca_hospital_data = pd.read_csv('calihospital.txt', delimiter='\\t')\n",
    "ca_hospital_data.to_csv('CaliforniaHospitalData_Personnel.csv', index=False)\n",
    "\n",
    "ca_hospital_data.info()"
   ]
  },
  {
   "cell_type": "markdown",
   "id": "62cdbeb2-d431-4376-b8fa-e36c5ce0dc1f",
   "metadata": {},
   "source": [
    "## Principal Component Analysis (PCA) in Python\n",
    "\n",
    "Open the data within Python and conduct a PCA, specifically: \n",
    "\n",
    "* Using the numerical columns for the hospital (7 total; not variables related to position), conduct a PCA and obtain the eigenvalues.\n",
    "* Based on the eigenvalues, explain how many variables you should keep. Justify your reasoning.\n",
    "* Create and display a scree plot for the same set of data.\n",
    "* Based on the scree plot, how many variables should you keep? Why?"
   ]
  },
  {
   "cell_type": "code",
   "execution_count": 16,
   "id": "0acad23b-a57f-4d2e-9bd1-934bb4d263e6",
   "metadata": {
    "scrolled": true
   },
   "outputs": [
    {
     "data": {
      "image/png": "[encoded data removed]",
      "text/plain": [
       "<Figure size 700x500 with 1 Axes>"
      ]
     },
     "metadata": {},
     "output_type": "display_data"
    }
   ],
   "source": [
    "num_cols = ['NoFTE', 'NetPatRev', 'InOperExp', 'OutOperExp', 'OperRev', 'OperInc', 'AvlBeds']\n",
    "X = ca_hospital_data[num_cols].dropna()\n",
    "\n",
    "# run the PCA - we specify 7 components because we have 7 variables in the DataFrame\n",
    "pca_result = pca(n_components=7).fit(X)\n",
    "\n",
    "# generate scree plot - focus on the output\n",
    "plt.figure(figsize=(7,5))\n",
    "plt.plot([1,2,3,4,5,6,7], pca_result.explained_variance_ratio_, '-o')\n",
    "plt.ylabel('Proportion of Variance Explained') \n",
    "plt.xlabel('Principal Component') \n",
    "plt.xlim(0.75,4.25) \n",
    "plt.ylim(0,1.05) \n",
    "plt.xticks([1,2,3,4,5,6,7])\n",
    "\n",
    "plt.show()"
   ]
  },
  {
   "cell_type": "code",
   "execution_count": 18,
   "id": "739dd628-96e7-4f3f-911f-7a634f55888c",
   "metadata": {},
   "outputs": [
    {
     "data": {
      "text/plain": [
       "array([2.75753261e+17, 6.75028311e+15, 2.04591348e+15, 2.44102791e+09,\n",
       "       3.37008097e+05, 6.33647054e+03, 4.13822605e-05])"
      ]
     },
     "execution_count": 18,
     "metadata": {},
     "output_type": "execute_result"
    }
   ],
   "source": [
    "# obtain eigenvalues - focus on the output\n",
    "pca_result.explained_variance_\n",
    "\n",
    "# components from the PCA\n",
    "#pca_result.components_.T * np.sqrt(pca_result.explained_variance_)\n"
   ]
  },
  {
   "cell_type": "code",
   "execution_count": 19,
   "id": "7187b5f1-2895-417b-854e-636b5b7e9a44",
   "metadata": {},
   "outputs": [
    {
     "data": {
      "text/plain": [
       "array([[ 1.84843397e+03, -5.04388784e+02, -1.36520816e+02,\n",
       "         2.74041013e+02,  5.80454101e+02, -1.15348763e+00,\n",
       "         3.28350254e-08],\n",
       "       [ 1.09490242e+06,  4.76772893e+04,  3.17740216e+04,\n",
       "         4.94058718e+04, -3.21941366e+00,  8.22026752e-03,\n",
       "        -1.10277058e-09],\n",
       "       [ 2.79713207e+08, -3.33558913e+07, -2.48340460e+07,\n",
       "        -2.41819562e+01, -6.53067648e-04, -2.01720981e-03,\n",
       "        -3.21645225e-03],\n",
       "       [ 1.31634759e+08, -1.28388719e+07,  3.68227223e+07,\n",
       "        -4.96002192e+01,  4.86996256e-03, -1.91156443e-03,\n",
       "        -3.21645225e-03],\n",
       "       [ 4.24284710e+08,  2.38379497e+07,  5.15601441e+06,\n",
       "        -9.55037971e+01,  4.52969416e-03,  1.92853558e-03,\n",
       "         3.21645226e-03],\n",
       "       [ 1.29367447e+07,  7.00327129e+07, -6.83266192e+06,\n",
       "        -2.17356524e+01,  5.41597973e-03, -1.94566000e-03,\n",
       "        -3.21645225e-03],\n",
       "       [ 2.00049406e+02, -3.15901590e+01, -4.22488207e+01,\n",
       "        -1.13109944e+00,  8.41239953e+00,  7.95935922e+01,\n",
       "        -3.14849416e-07]])"
      ]
     },
     "execution_count": 19,
     "metadata": {},
     "output_type": "execute_result"
    }
   ],
   "source": [
    "# components from the PCA\n",
    "pca_result.components_.T * np.sqrt(pca_result.explained_variance_)"
   ]
  },
  {
   "cell_type": "code",
   "execution_count": 20,
   "id": "ce09f8f7-1c9e-41ac-bf63-912272ead083",
   "metadata": {},
   "outputs": [
    {
     "data": {
      "text/plain": [
       "array([9.69087276e-01, 2.37227057e-02, 7.19001006e-03, 8.57857158e-09,\n",
       "       1.18435683e-12, 2.22684328e-14, 1.45430817e-22])"
      ]
     },
     "execution_count": 20,
     "metadata": {},
     "output_type": "execute_result"
    }
   ],
   "source": [
    "# obtain percentage of variance explained by the principal component\n",
    "pca_result.explained_variance_ratio_"
   ]
  },
  {
   "cell_type": "markdown",
   "id": "131d564b-4bec-4f0f-9f2a-a81a8fd740df",
   "metadata": {},
   "source": [
    "It appears based on the scree plot that I should only keep 1 variable. It looks like only 1 variable has impact and the tail levels out at the second one. "
   ]
  },
  {
   "cell_type": "markdown",
   "id": "c4123d51-2f77-47fb-a6b2-8523b191fa95",
   "metadata": {},
   "source": [
    "## Clustering in Python\n",
    "\n",
    "Open the data within Python and conduct a k-means cluster analysis for the numerical data. Please conduct the following assessments:\n",
    "\n",
    "* Choose a value of k and run your analysis. Justify your choice of k.\n",
    "* Create a confusion matrix for each of the three categorical variables (e.g., `Teaching`, `TypeControl`, `DonorType`) and determine which of the three variables is the best grouping variable. Why do you think it is the best fitting?"
   ]
  },
  {
   "cell_type": "code",
   "execution_count": 52,
   "id": "bfe87c8a-f076-49dd-8bea-eff717682e61",
   "metadata": {},
   "outputs": [
    {
     "data": {
      "text/html": [
       "<div>\n",
       "<style scoped>\n",
       "    .dataframe tbody tr th:only-of-type {\n",
       "        vertical-align: middle;\n",
       "    }\n",
       "\n",
       "    .dataframe tbody tr th {\n",
       "        vertical-align: top;\n",
       "    }\n",
       "\n",
       "    .dataframe thead th {\n",
       "        text-align: right;\n",
       "    }\n",
       "</style>\n",
       "<table border=\"1\" class=\"dataframe\">\n",
       "  <thead>\n",
       "    <tr style=\"text-align: right;\">\n",
       "      <th></th>\n",
       "      <th>NoFTE</th>\n",
       "      <th>NetPatRev</th>\n",
       "      <th>InOperExp</th>\n",
       "      <th>OutOperExp</th>\n",
       "      <th>OperRev</th>\n",
       "      <th>OperInc</th>\n",
       "      <th>AvlBeds</th>\n",
       "      <th>Compensation</th>\n",
       "      <th>MaxTerm</th>\n",
       "      <th>StartDate</th>\n",
       "    </tr>\n",
       "  </thead>\n",
       "  <tbody>\n",
       "    <tr>\n",
       "      <th>count</th>\n",
       "      <td>62.000000</td>\n",
       "      <td>6.200000e+01</td>\n",
       "      <td>6.200000e+01</td>\n",
       "      <td>6.200000e+01</td>\n",
       "      <td>6.200000e+01</td>\n",
       "      <td>6.200000e+01</td>\n",
       "      <td>62.000000</td>\n",
       "      <td>62.000000</td>\n",
       "      <td>62.000000</td>\n",
       "      <td>62</td>\n",
       "    </tr>\n",
       "    <tr>\n",
       "      <th>mean</th>\n",
       "      <td>1335.768065</td>\n",
       "      <td>6.611344e+05</td>\n",
       "      <td>1.641024e+08</td>\n",
       "      <td>8.904561e+07</td>\n",
       "      <td>2.530047e+08</td>\n",
       "      <td>-1.433042e+05</td>\n",
       "      <td>194.274194</td>\n",
       "      <td>92721.467742</td>\n",
       "      <td>4.225806</td>\n",
       "      <td>2010-04-30 12:46:27.096774144</td>\n",
       "    </tr>\n",
       "    <tr>\n",
       "      <th>min</th>\n",
       "      <td>55.000000</td>\n",
       "      <td>1.417224e+04</td>\n",
       "      <td>1.436471e+06</td>\n",
       "      <td>3.787718e+06</td>\n",
       "      <td>5.235317e+06</td>\n",
       "      <td>-3.211633e+08</td>\n",
       "      <td>12.000000</td>\n",
       "      <td>23987.000000</td>\n",
       "      <td>2.000000</td>\n",
       "      <td>2002-01-01 00:00:00</td>\n",
       "    </tr>\n",
       "    <tr>\n",
       "      <th>25%</th>\n",
       "      <td>216.375000</td>\n",
       "      <td>7.284830e+04</td>\n",
       "      <td>1.382645e+07</td>\n",
       "      <td>1.429398e+07</td>\n",
       "      <td>2.685966e+07</td>\n",
       "      <td>-1.028922e+06</td>\n",
       "      <td>42.750000</td>\n",
       "      <td>46978.000000</td>\n",
       "      <td>3.000000</td>\n",
       "      <td>2009-04-02 06:00:00</td>\n",
       "    </tr>\n",
       "    <tr>\n",
       "      <th>50%</th>\n",
       "      <td>385.910000</td>\n",
       "      <td>1.670720e+05</td>\n",
       "      <td>3.184268e+07</td>\n",
       "      <td>3.259692e+07</td>\n",
       "      <td>6.153388e+07</td>\n",
       "      <td>1.464124e+06</td>\n",
       "      <td>100.500000</td>\n",
       "      <td>46978.000000</td>\n",
       "      <td>4.000000</td>\n",
       "      <td>2011-01-01 00:00:00</td>\n",
       "    </tr>\n",
       "    <tr>\n",
       "      <th>75%</th>\n",
       "      <td>1137.000000</td>\n",
       "      <td>5.317051e+05</td>\n",
       "      <td>1.639284e+08</td>\n",
       "      <td>8.867309e+07</td>\n",
       "      <td>1.982414e+08</td>\n",
       "      <td>6.146421e+06</td>\n",
       "      <td>228.250000</td>\n",
       "      <td>89473.000000</td>\n",
       "      <td>4.000000</td>\n",
       "      <td>2012-01-01 00:00:00</td>\n",
       "    </tr>\n",
       "    <tr>\n",
       "      <th>max</th>\n",
       "      <td>8000.000000</td>\n",
       "      <td>4.662582e+06</td>\n",
       "      <td>1.285631e+09</td>\n",
       "      <td>6.621559e+08</td>\n",
       "      <td>1.912179e+09</td>\n",
       "      <td>1.648724e+08</td>\n",
       "      <td>909.000000</td>\n",
       "      <td>248904.000000</td>\n",
       "      <td>8.000000</td>\n",
       "      <td>2025-04-28 00:00:00</td>\n",
       "    </tr>\n",
       "    <tr>\n",
       "      <th>std</th>\n",
       "      <td>2011.856666</td>\n",
       "      <td>1.090511e+06</td>\n",
       "      <td>2.809792e+08</td>\n",
       "      <td>1.364412e+08</td>\n",
       "      <td>4.222723e+08</td>\n",
       "      <td>7.095578e+07</td>\n",
       "      <td>220.015958</td>\n",
       "      <td>83849.213062</td>\n",
       "      <td>2.099331</td>\n",
       "      <td>NaN</td>\n",
       "    </tr>\n",
       "  </tbody>\n",
       "</table>\n",
       "</div>"
      ],
      "text/plain": [
       "             NoFTE     NetPatRev     InOperExp    OutOperExp       OperRev  \\\n",
       "count    62.000000  6.200000e+01  6.200000e+01  6.200000e+01  6.200000e+01   \n",
       "mean   1335.768065  6.611344e+05  1.641024e+08  8.904561e+07  2.530047e+08   \n",
       "min      55.000000  1.417224e+04  1.436471e+06  3.787718e+06  5.235317e+06   \n",
       "25%     216.375000  7.284830e+04  1.382645e+07  1.429398e+07  2.685966e+07   \n",
       "50%     385.910000  1.670720e+05  3.184268e+07  3.259692e+07  6.153388e+07   \n",
       "75%    1137.000000  5.317051e+05  1.639284e+08  8.867309e+07  1.982414e+08   \n",
       "max    8000.000000  4.662582e+06  1.285631e+09  6.621559e+08  1.912179e+09   \n",
       "std    2011.856666  1.090511e+06  2.809792e+08  1.364412e+08  4.222723e+08   \n",
       "\n",
       "            OperInc     AvlBeds   Compensation    MaxTerm  \\\n",
       "count  6.200000e+01   62.000000      62.000000  62.000000   \n",
       "mean  -1.433042e+05  194.274194   92721.467742   4.225806   \n",
       "min   -3.211633e+08   12.000000   23987.000000   2.000000   \n",
       "25%   -1.028922e+06   42.750000   46978.000000   3.000000   \n",
       "50%    1.464124e+06  100.500000   46978.000000   4.000000   \n",
       "75%    6.146421e+06  228.250000   89473.000000   4.000000   \n",
       "max    1.648724e+08  909.000000  248904.000000   8.000000   \n",
       "std    7.095578e+07  220.015958   83849.213062   2.099331   \n",
       "\n",
       "                           StartDate  \n",
       "count                             62  \n",
       "mean   2010-04-30 12:46:27.096774144  \n",
       "min              2002-01-01 00:00:00  \n",
       "25%              2009-04-02 06:00:00  \n",
       "50%              2011-01-01 00:00:00  \n",
       "75%              2012-01-01 00:00:00  \n",
       "max              2025-04-28 00:00:00  \n",
       "std                              NaN  "
      ]
     },
     "execution_count": 52,
     "metadata": {},
     "output_type": "execute_result"
    }
   ],
   "source": [
    "ca_hospital_personel_merge.describe()"
   ]
  },
  {
   "cell_type": "code",
   "execution_count": 56,
   "id": "7d580e31-4f5d-407c-a1c6-23e5ffbe7948",
   "metadata": {},
   "outputs": [
    {
     "data": {
      "text/html": [
       "<div>\n",
       "<style scoped>\n",
       "    .dataframe tbody tr th:only-of-type {\n",
       "        vertical-align: middle;\n",
       "    }\n",
       "\n",
       "    .dataframe tbody tr th {\n",
       "        vertical-align: top;\n",
       "    }\n",
       "\n",
       "    .dataframe thead th {\n",
       "        text-align: right;\n",
       "    }\n",
       "</style>\n",
       "<table border=\"1\" class=\"dataframe\">\n",
       "  <thead>\n",
       "    <tr style=\"text-align: right;\">\n",
       "      <th></th>\n",
       "      <th>HospitalID</th>\n",
       "      <th>Name</th>\n",
       "      <th>Zip</th>\n",
       "      <th>TypeControl</th>\n",
       "      <th>Teaching</th>\n",
       "      <th>DonorType</th>\n",
       "      <th>LastName</th>\n",
       "      <th>FirstName</th>\n",
       "      <th>Gender</th>\n",
       "      <th>PositionTitle</th>\n",
       "      <th>Phone</th>\n",
       "      <th>Email</th>\n",
       "    </tr>\n",
       "  </thead>\n",
       "  <tbody>\n",
       "    <tr>\n",
       "      <th>count</th>\n",
       "      <td>62</td>\n",
       "      <td>62</td>\n",
       "      <td>62</td>\n",
       "      <td>62</td>\n",
       "      <td>62</td>\n",
       "      <td>62</td>\n",
       "      <td>62</td>\n",
       "      <td>62</td>\n",
       "      <td>62</td>\n",
       "      <td>62</td>\n",
       "      <td>62</td>\n",
       "      <td>62</td>\n",
       "    </tr>\n",
       "    <tr>\n",
       "      <th>unique</th>\n",
       "      <td>62</td>\n",
       "      <td>61</td>\n",
       "      <td>61</td>\n",
       "      <td>4</td>\n",
       "      <td>2</td>\n",
       "      <td>2</td>\n",
       "      <td>24</td>\n",
       "      <td>20</td>\n",
       "      <td>2</td>\n",
       "      <td>4</td>\n",
       "      <td>25</td>\n",
       "      <td>25</td>\n",
       "    </tr>\n",
       "    <tr>\n",
       "      <th>top</th>\n",
       "      <td>10767</td>\n",
       "      <td>Hi-Desert Medical Center</td>\n",
       "      <td>92252</td>\n",
       "      <td>Non Profit</td>\n",
       "      <td>Small/Rural</td>\n",
       "      <td>Charity</td>\n",
       "      <td>Smith</td>\n",
       "      <td>David</td>\n",
       "      <td>F</td>\n",
       "      <td>Regional Representative</td>\n",
       "      <td>405-744-2238</td>\n",
       "      <td>akira.iwata@hsu.edu</td>\n",
       "    </tr>\n",
       "    <tr>\n",
       "      <th>freq</th>\n",
       "      <td>1</td>\n",
       "      <td>2</td>\n",
       "      <td>2</td>\n",
       "      <td>37</td>\n",
       "      <td>45</td>\n",
       "      <td>45</td>\n",
       "      <td>4</td>\n",
       "      <td>6</td>\n",
       "      <td>33</td>\n",
       "      <td>24</td>\n",
       "      <td>3</td>\n",
       "      <td>3</td>\n",
       "    </tr>\n",
       "  </tbody>\n",
       "</table>\n",
       "</div>"
      ],
      "text/plain": [
       "        HospitalID                      Name    Zip TypeControl     Teaching  \\\n",
       "count           62                        62     62          62           62   \n",
       "unique          62                        61     61           4            2   \n",
       "top          10767  Hi-Desert Medical Center  92252  Non Profit  Small/Rural   \n",
       "freq             1                         2      2          37           45   \n",
       "\n",
       "       DonorType LastName FirstName Gender            PositionTitle  \\\n",
       "count         62       62        62     62                       62   \n",
       "unique         2       24        20      2                        4   \n",
       "top      Charity    Smith     David      F  Regional Representative   \n",
       "freq          45        4         6     33                       24   \n",
       "\n",
       "               Phone                Email  \n",
       "count             62                   62  \n",
       "unique            25                   25  \n",
       "top     405-744-2238  akira.iwata@hsu.edu  \n",
       "freq               3                    3  "
      ]
     },
     "execution_count": 56,
     "metadata": {},
     "output_type": "execute_result"
    }
   ],
   "source": [
    "ca_hospital_personel_merge.describe(include=['category'])"
   ]
  },
  {
   "cell_type": "code",
   "execution_count": 44,
   "id": "f930545f-cd06-4a9b-93d1-2ad7ab0b7a70",
   "metadata": {},
   "outputs": [],
   "source": [
    "from sklearn.cluster import KMeans\n",
    "\n",
    "# List of numerical columns for clustering\n",
    "num_cols = ['NoFTE', 'NetPatRev', 'InOperExp', 'OutOperExp', 'OperRev', 'OperInc', 'AvlBeds']\n",
    "\n",
    "# Selecting only numerical columns\n",
    "X = ca_hospital_data[num_cols].dropna()\n",
    "\n",
    "# Applying KMeans with k=4\n",
    "kmeans = KMeans(n_clusters=4, random_state=42)\n",
    "ca_hospital_data['cluster'] = kmeans.fit_predict(X)"
   ]
  },
  {
   "cell_type": "code",
   "execution_count": 29,
   "id": "f4c40f79-c845-49e0-88da-f5c494e2735c",
   "metadata": {},
   "outputs": [],
   "source": [
    "# convert to categorical datatype\n",
    "ca_hospital_data['Teaching'] = ca_hospital_data['Teaching'].astype('category')          \n",
    "ca_hospital_data['TypeControl'] = ca_hospital_data['TypeControl'].astype('category')\n",
    "ca_hospital_data['DonorType'] = ca_hospital_data['DonorType'].astype('category')\n"
   ]
  },
  {
   "cell_type": "code",
   "execution_count": 51,
   "id": "f1ed3a8c-66c0-4d69-891b-f4e2c3372f5a",
   "metadata": {},
   "outputs": [
    {
     "name": "stdout",
     "output_type": "stream",
     "text": [
      "cluster       0  1  2  3\n",
      "Teaching                \n",
      "Small/Rural  44  0  0  0\n",
      "Teaching      2  4  8  3\n"
     ]
    }
   ],
   "source": [
    "# Crosstab for Teaching (categorical)\n",
    "teaching_crosstab = pd.crosstab(ca_hospital_data['Teaching'], ca_hospital_data['cluster'])\n",
    "print(teaching_crosstab)"
   ]
  },
  {
   "cell_type": "code",
   "execution_count": 49,
   "id": "8a7b48eb-a6db-4947-b2ac-8da85e6d7612",
   "metadata": {},
   "outputs": [
    {
     "name": "stdout",
     "output_type": "stream",
     "text": [
      "cluster       0  1  2  3\n",
      "TypeControl             \n",
      "City/County   2  1  4  0\n",
      "District     14  0  0  0\n",
      "Investor      3  0  0  0\n",
      "Non Profit   27  3  4  3\n"
     ]
    }
   ],
   "source": [
    "# Crosstab for TypeControl (categorical)\n",
    "typecontrol_crosstab = pd.crosstab(ca_hospital_data['TypeControl'], ca_hospital_data['cluster'])\n",
    "print(typecontrol_crosstab)"
   ]
  },
  {
   "cell_type": "code",
   "execution_count": 50,
   "id": "293fd0f4-4e1f-42fb-a982-a6d9dd2e6af5",
   "metadata": {},
   "outputs": [
    {
     "name": "stdout",
     "output_type": "stream",
     "text": [
      "cluster     0  1  2  3\n",
      "DonorType             \n",
      "Alumni      2  4  8  3\n",
      "Charity    44  0  0  0\n"
     ]
    }
   ],
   "source": [
    "# Crosstab for DonorType (categorical)\n",
    "donortype_crosstab = pd.crosstab(ca_hospital_data['DonorType'], ca_hospital_data['cluster'])\n",
    "print(donortype_crosstab)"
   ]
  },
  {
   "cell_type": "markdown",
   "id": "70299319-b68e-466b-bb55-3dabda8fc1b9",
   "metadata": {},
   "source": [
    "## Dataset Contents\n",
    "\n",
    "This table provides the variables in the hospital data.\n",
    "\n",
    "| Item | Definition |\n",
    "|:---|:---|\n",
    "| HospitalID | The primary key of each hospital |\n",
    "| Name | The legal name of the hospital |\n",
    "| Zip |\tZip code where the hospital is located |\n",
    "| Website |\tThe url for the hospital’s website |\n",
    "| TypeControl |\tIndicates the primary managing entity of the hospital |\n",
    "| Teaching |\tIndicates teaching status |\n",
    "| DonorType |\tThis field indicates the most prominent group of donors |\n",
    "| NoFTE |\tNumber of full-time employees registered at the hospital |\n",
    "| NetPatRev |\tNet patient revenue |\n",
    "| InOperExp |\tEstimate of the inpatient operating costs |\n",
    "| OutOperExp |\tEstimate of the outpatient operating costs |\n",
    "| OperRev |\tOperating revenue of the hospital |\n",
    "| OperInc |\tOperating Income is the operating revenue less the operating expenses |\n",
    "| AvlBeds |\tThe number of available beds in the hospital |\n",
    "| Work_ID |\tPrimary key of the personnel |\n",
    "| LastName |\tThe last name of the personnel |\n",
    "| FirstName |\tFirst name of the personnel |\n",
    "| Gender |\tGender of the individual |\n",
    "| PositionID |\tThe foreign key for the position held |\n",
    "| PositionTitle |\tThe title of this position |\n",
    "| Compensation |\tThe annual amount the position is compensated for service |\n",
    "| MaxTerm |\tThe maximum number of years an individual can serve in this position |\n",
    "| StartDate |\tThe beginning of service for this position |"
   ]
  }
 ],
 "metadata": {
  "kernelspec": {
   "display_name": "Python 3 (ipykernel)",
   "language": "python",
   "name": "python3"
  },
  "language_info": {
   "codemirror_mode": {
    "name": "ipython",
    "version": 3
   },
   "file_extension": ".py",
   "mimetype": "text/x-python",
   "name": "python",
   "nbconvert_exporter": "python",
   "pygments_lexer": "ipython3",
   "version": "3.13.2"
  }
 },
 "nbformat": 4,
 "nbformat_minor": 5
}
